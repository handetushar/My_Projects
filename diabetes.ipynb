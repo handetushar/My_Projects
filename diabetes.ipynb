{
 "cells": [
  {
   "cell_type": "markdown",
   "id": "8dd1e225-36e5-4fd7-85cd-789e41b71776",
   "metadata": {},
   "source": [
    "# Diabetes prediction"
   ]
  },
  {
   "cell_type": "code",
   "execution_count": null,
   "id": "8091e450-0b59-48dd-a4f8-75b1da60c175",
   "metadata": {},
   "outputs": [],
   "source": [
    "# Importing Dependencies \n",
    "import pandas as pd\n",
    "import numpy as np\n",
    "import matplotlib.pyplot as plt\n",
    "import seaborn as sns\n",
    "%matplotlib inline\n",
    "from sklearn.preprocessing import StandardScaler\n",
    "from sklearn.model_selection import train_test_split\n",
    "from sklearn import svm\n",
    "from sklearn.ensemble import RandomForestClassifier\n",
    "from sklearn.metrics import accuracy_score\n",
    "import warnings\n",
    "warnings.filterwarnings(\"ignore\")"
   ]
  },
  {
   "cell_type": "code",
   "execution_count": null,
   "id": "93a4dfd7-d87d-48c8-9f80-452964680682",
   "metadata": {},
   "outputs": [],
   "source": [
    "#Loading dataset\n",
    "df=pd.read_csv('diabetes.csv')"
   ]
  },
  {
   "cell_type": "code",
   "execution_count": null,
   "id": "487b3a68-47c8-4be5-a2d2-f550f5f224a6",
   "metadata": {},
   "outputs": [],
   "source": [
    "# Display first five rows\n",
    "df.head()"
   ]
  },
  {
   "cell_type": "code",
   "execution_count": null,
   "id": "a7941176-1c79-4a59-b44f-3c18dc70b095",
   "metadata": {},
   "outputs": [],
   "source": [
    "# Shape of the dataset\n",
    "df.shape"
   ]
  },
  {
   "cell_type": "code",
   "execution_count": null,
   "id": "d8dca5e5-6c2b-4107-8a6d-8d156d124136",
   "metadata": {},
   "outputs": [],
   "source": [
    "# Check if it has some null values\n",
    "df.isnull().sum()"
   ]
  },
  {
   "cell_type": "markdown",
   "id": "72afdf60-ebdb-46ca-a623-a92024219770",
   "metadata": {},
   "source": [
    "#### There are no null values"
   ]
  },
  {
   "cell_type": "code",
   "execution_count": null,
   "id": "4c4f268a-8c59-4a68-bff6-9aa4117cd9e6",
   "metadata": {},
   "outputs": [],
   "source": [
    "# Some more information about dataset\n",
    "df.info()"
   ]
  },
  {
   "cell_type": "markdown",
   "id": "cfe2e72e-ef90-4610-824d-ef4c37774a19",
   "metadata": {},
   "source": [
    "#### All features are integer or float type"
   ]
  },
  {
   "cell_type": "code",
   "execution_count": null,
   "id": "d7556549-d391-4331-8ecd-c2a996c81f86",
   "metadata": {},
   "outputs": [],
   "source": [
    "# Statistical analysis\n",
    "df.describe()"
   ]
  },
  {
   "cell_type": "code",
   "execution_count": null,
   "id": "23c5c4a0-41d8-47d8-8845-8c943336b15f",
   "metadata": {},
   "outputs": [],
   "source": [
    "df['Outcome'].value_counts()"
   ]
  },
  {
   "cell_type": "markdown",
   "id": "706a28ab-0553-4330-89bd-0371d828f81e",
   "metadata": {},
   "source": [
    "# Data Visualization"
   ]
  },
  {
   "cell_type": "code",
   "execution_count": null,
   "id": "5f3866e6-00d0-44ca-8e56-2dacb90a00ee",
   "metadata": {},
   "outputs": [],
   "source": [
    "## Distribution plot\n",
    "sns.distplot(df['Age'], color='purple')"
   ]
  },
  {
   "cell_type": "markdown",
   "id": "7ba1da5b-5c95-4dff-8247-a3ee7025543b",
   "metadata": {},
   "source": [
    "#### Observations has most age group 25 "
   ]
  },
  {
   "cell_type": "code",
   "execution_count": null,
   "id": "118454df-6061-4e5d-9207-7087198bff1f",
   "metadata": {},
   "outputs": [],
   "source": [
    "sns.distplot(df['Pregnancies'], color='purple')"
   ]
  },
  {
   "cell_type": "markdown",
   "id": "cef36c8d-d27b-422c-b3e3-8197b8e3dc80",
   "metadata": {},
   "source": [
    "#### This feature is right skewed "
   ]
  },
  {
   "cell_type": "code",
   "execution_count": null,
   "id": "10648cb6-92da-4908-ba9e-bfd84a06fcd2",
   "metadata": {},
   "outputs": [],
   "source": [
    "sns.distplot(df['Glucose'], color='purple')"
   ]
  },
  {
   "cell_type": "code",
   "execution_count": null,
   "id": "16a2a80a-1241-49e5-b9f0-d966a137b024",
   "metadata": {},
   "outputs": [],
   "source": [
    "sns.distplot(df['BloodPressure'], color='purple')"
   ]
  },
  {
   "cell_type": "code",
   "execution_count": null,
   "id": "9f875511-a3c5-4d5b-a76b-2329b1648402",
   "metadata": {},
   "outputs": [],
   "source": [
    "plt.figure(figsize=(15, 8))\n",
    "sns.countplot(x='Age',hue='Outcome', data=df)"
   ]
  },
  {
   "cell_type": "code",
   "execution_count": null,
   "id": "0ade1105-7800-42a0-8bad-8e4c62a48885",
   "metadata": {},
   "outputs": [],
   "source": [
    "sns.heatmap(df.corr(), annot=True)"
   ]
  },
  {
   "cell_type": "markdown",
   "id": "093c222e-ae41-48a2-86a7-6e239d13e165",
   "metadata": {},
   "source": [
    "## Data preprocessing"
   ]
  },
  {
   "cell_type": "code",
   "execution_count": null,
   "id": "10488c25-c3b9-401c-8f0b-32ae0b793ea4",
   "metadata": {},
   "outputs": [],
   "source": [
    "df.groupby('Outcome').mean()"
   ]
  },
  {
   "cell_type": "code",
   "execution_count": null,
   "id": "b3185dab-8e3a-44b7-8214-9ea6c3c1272c",
   "metadata": {},
   "outputs": [],
   "source": [
    "# Seperate fatures and targets\n",
    "X=df.drop('Outcome', axis=1)\n",
    "y=df['Outcome']"
   ]
  },
  {
   "cell_type": "code",
   "execution_count": null,
   "id": "ff4acf18-9305-4e34-ae60-2545b62b5005",
   "metadata": {},
   "outputs": [],
   "source": [
    "print(X)\n",
    "print(y)"
   ]
  },
  {
   "cell_type": "markdown",
   "id": "76ec4423-2a19-402d-a677-3d06b90de635",
   "metadata": {},
   "source": [
    "## Data Standardization"
   ]
  },
  {
   "cell_type": "code",
   "execution_count": null,
   "id": "045ed1a1-9c00-46d6-b577-dfb578043665",
   "metadata": {},
   "outputs": [],
   "source": [
    "scaler=StandardScaler()\n",
    "new_df=scaler.fit_transform(X)"
   ]
  },
  {
   "cell_type": "code",
   "execution_count": null,
   "id": "fc2b9fd9-6e24-4ccf-9346-d8170d0a5528",
   "metadata": {},
   "outputs": [],
   "source": [
    "new_df"
   ]
  },
  {
   "cell_type": "code",
   "execution_count": null,
   "id": "ef54fdb5-8a5e-4768-bea1-6918e9fe8d0f",
   "metadata": {},
   "outputs": [],
   "source": [
    "X=new_df"
   ]
  },
  {
   "cell_type": "markdown",
   "id": "67e952ac-11cf-441e-a47f-086cd1afb4b6",
   "metadata": {},
   "source": [
    "## Separating training and test data"
   ]
  },
  {
   "cell_type": "code",
   "execution_count": null,
   "id": "155669d7-abbc-4b16-b837-1492b066a4d2",
   "metadata": {},
   "outputs": [],
   "source": [
    "# train_test_split\n",
    "X_train, X_test, y_train, y_test=train_test_split(X, y, test_size=0.2, stratify=y, random_state=2) "
   ]
  },
  {
   "cell_type": "code",
   "execution_count": null,
   "id": "448e3eef-d75c-4d91-bb44-c294ac865cdf",
   "metadata": {},
   "outputs": [],
   "source": [
    "print(X.shape, X_train.shape, X_test.shape)"
   ]
  },
  {
   "cell_type": "markdown",
   "id": "2b2b1954-67dd-4bd6-9dfd-705de53c2688",
   "metadata": {},
   "source": [
    "## Training the model"
   ]
  },
  {
   "cell_type": "code",
   "execution_count": null,
   "id": "0c8ecdac-e670-4a17-8cfc-66204c97152f",
   "metadata": {},
   "outputs": [],
   "source": [
    "classifier=svm.SVC(kernel='linear')"
   ]
  },
  {
   "cell_type": "code",
   "execution_count": null,
   "id": "b681ed53-5fb0-42e1-830d-ed2f906fb789",
   "metadata": {},
   "outputs": [],
   "source": [
    "classifier.fit(X_train, y_train)"
   ]
  },
  {
   "cell_type": "code",
   "execution_count": null,
   "id": "799ec002-ebb4-405a-b4da-045381c511ef",
   "metadata": {},
   "outputs": [],
   "source": [
    "predict_x_train=classifier.predict(X_train)\n",
    "predict_y=classifier.predict(X_test)"
   ]
  },
  {
   "cell_type": "markdown",
   "id": "7a126bc0-82c5-4b43-92c8-119f27963e37",
   "metadata": {},
   "source": [
    "## Accuracy score"
   ]
  },
  {
   "cell_type": "code",
   "execution_count": null,
   "id": "031db92e-dbe5-408f-be4c-ec7114558bb9",
   "metadata": {},
   "outputs": [],
   "source": [
    "# Training accuracy score\n",
    "training_accuaracy=accuracy_score(y_train, predict_x_train)\n",
    "training_accuaracy"
   ]
  },
  {
   "cell_type": "code",
   "execution_count": null,
   "id": "5815d94b-aa24-40eb-8908-346dc106c262",
   "metadata": {},
   "outputs": [],
   "source": [
    "# test data accuracy score\n",
    "test_accuracy=accuracy_score(predict_y, y_test)\n",
    "test_accuracy"
   ]
  },
  {
   "cell_type": "markdown",
   "id": "4a2dffe4-8596-4eee-ba6b-0e1d84431ea7",
   "metadata": {},
   "source": [
    "# Making the predictive Model"
   ]
  },
  {
   "cell_type": "code",
   "execution_count": null,
   "id": "536f01c6-55e2-4704-bc6a-dbe396df03b7",
   "metadata": {},
   "outputs": [],
   "source": [
    "input_data=(1,85,66,29,0,26.6,0.351,31)\n",
    "input_data_asarray=np.asarray(input_data)\n",
    "#reshape\n",
    "data_reshape=input_data_asarray.reshape(1, -1)\n",
    "print(data_reshape)"
   ]
  },
  {
   "cell_type": "code",
   "execution_count": null,
   "id": "00634d72-b72d-4d8b-bf25-2bbd9ba504f4",
   "metadata": {},
   "outputs": [],
   "source": [
    "std_data=scaler.transform(data_reshape)\n",
    "print(std_data)\n",
    "output=classifier.predict(std_data)\n",
    "print(output)"
   ]
  },
  {
   "cell_type": "code",
   "execution_count": null,
   "id": "cf9aedb2-1ef2-4edc-8e32-63c55d7f2858",
   "metadata": {},
   "outputs": [],
   "source": [
    "if (output==1) :\n",
    "    print(\"person is diabetic\")\n",
    "else:\n",
    "    print('Person is not diabetic')"
   ]
  },
  {
   "cell_type": "code",
   "execution_count": null,
   "id": "9352c4e7-9fab-44ae-b9e8-f26476685189",
   "metadata": {},
   "outputs": [],
   "source": []
  }
 ],
 "metadata": {
  "kernelspec": {
   "display_name": "Python",
   "language": "python",
   "name": "conda-env-python-py"
  },
  "language_info": {
   "codemirror_mode": {
    "name": "ipython",
    "version": 3
   },
   "file_extension": ".py",
   "mimetype": "text/x-python",
   "name": "python",
   "nbconvert_exporter": "python",
   "pygments_lexer": "ipython3",
   "version": "3.7.12"
  }
 },
 "nbformat": 4,
 "nbformat_minor": 5
}
