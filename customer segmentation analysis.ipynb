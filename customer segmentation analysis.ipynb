{
 "cells": [
  {
   "cell_type": "markdown",
   "id": "51a46381-1e76-479b-a335-cb6899be192c",
   "metadata": {},
   "source": [
    "# Customer Segmentation Analysis (K-Means)"
   ]
  },
  {
   "cell_type": "code",
   "execution_count": null,
   "id": "254337dc-af8d-4ce8-befb-414732e4afb7",
   "metadata": {},
   "outputs": [],
   "source": [
    "# Importing liabraries\n",
    "import pandas as pd\n",
    "import numpy as np\n",
    "import seaborn as sns\n",
    "import matplotlib.pyplot as plt\n",
    "%matplotlib inline\n",
    "from sklearn.cluster import KMeans\n",
    "import warnings \n",
    "warnings.filterwarnings('ignore')"
   ]
  },
  {
   "cell_type": "code",
   "execution_count": null,
   "id": "35aee9e4-c0bf-4b8a-abe1-7af0bf69c86c",
   "metadata": {},
   "outputs": [],
   "source": [
    "df=pd.read_csv('Mall_Customers.csv')"
   ]
  },
  {
   "cell_type": "code",
   "execution_count": null,
   "id": "4646a6a7-8dfd-45b2-9a2b-6b87d6381fd6",
   "metadata": {},
   "outputs": [],
   "source": [
    "# Display first five rows\n",
    "df.head()"
   ]
  },
  {
   "cell_type": "code",
   "execution_count": null,
   "id": "e7bff373-1cb4-4195-a8b7-1be2d8a6780e",
   "metadata": {},
   "outputs": [],
   "source": [
    "# Display shape of the data\n",
    "df.shape"
   ]
  },
  {
   "cell_type": "code",
   "execution_count": null,
   "id": "3d557101-9000-4620-948f-2203f988bf36",
   "metadata": {},
   "outputs": [],
   "source": [
    "df.info()"
   ]
  },
  {
   "cell_type": "code",
   "execution_count": null,
   "id": "95ca2380-f8cf-40bf-8e11-661e1b16002b",
   "metadata": {},
   "outputs": [],
   "source": [
    "df.describe()"
   ]
  },
  {
   "cell_type": "code",
   "execution_count": null,
   "id": "4c700416-414b-4cfc-b083-963c6e93651e",
   "metadata": {},
   "outputs": [],
   "source": [
    "df.isnull().sum()"
   ]
  },
  {
   "cell_type": "code",
   "execution_count": null,
   "id": "ca79c1b0-7eca-4de5-9b99-38394022c5f1",
   "metadata": {},
   "outputs": [],
   "source": [
    "# Plot distributions\n",
    "sns.distplot(df['Age'],bins=20, color='blue' )"
   ]
  },
  {
   "cell_type": "code",
   "execution_count": null,
   "id": "c57cd8f0-8413-4423-b275-6b626cbf2849",
   "metadata": {},
   "outputs": [],
   "source": [
    "sns.distplot(df['Annual Income (k$)'],bins=20, color='blue' )"
   ]
  },
  {
   "cell_type": "code",
   "execution_count": null,
   "id": "1ee4190c-aef3-4d7f-be3d-c3149158c333",
   "metadata": {},
   "outputs": [],
   "source": [
    "sns.distplot(df['Spending Score (1-100)'],bins=20, color='blue')"
   ]
  },
  {
   "cell_type": "code",
   "execution_count": null,
   "id": "f083580e-6d46-4c52-aa16-5d12c0325618",
   "metadata": {},
   "outputs": [],
   "source": [
    "# countplot for gender\n",
    "sns.countplot(x='Gender', data=df)"
   ]
  },
  {
   "cell_type": "code",
   "execution_count": null,
   "id": "02287d12-2a55-48f1-b753-1bc54e8c318c",
   "metadata": {},
   "outputs": [],
   "source": [
    "# Regression plot\n",
    "sns.regplot(x='Age', y='Annual Income (k$)', data=df, color='purple')"
   ]
  },
  {
   "cell_type": "code",
   "execution_count": null,
   "id": "6bfb7fee-1b1e-4b43-b19d-afb9579a572d",
   "metadata": {},
   "outputs": [],
   "source": [
    "sns.regplot(x='Age', y='Spending Score (1-100)', data=df, color='purple')"
   ]
  },
  {
   "cell_type": "code",
   "execution_count": null,
   "id": "5b45d953-1478-4881-aba9-10c1e80c340f",
   "metadata": {},
   "outputs": [],
   "source": [
    "X=df.iloc[:, [3,4]].values"
   ]
  },
  {
   "cell_type": "code",
   "execution_count": null,
   "id": "561b4f88-107d-48e9-b757-1f53a1d4bf34",
   "metadata": {},
   "outputs": [],
   "source": [
    "X"
   ]
  },
  {
   "cell_type": "markdown",
   "id": "a0697b3e-ce8f-4542-9bde-c22dfe37df4a",
   "metadata": {},
   "source": [
    "## Choosing the number of cluster"
   ]
  },
  {
   "cell_type": "code",
   "execution_count": null,
   "id": "cb89d411-f2fb-4026-a05d-d7ab3319cdfa",
   "metadata": {},
   "outputs": [],
   "source": [
    "# WCSS--> Within Cluster Sum of Squares\n",
    "wcss=[]\n",
    "for i in range (1, 11):\n",
    "    kmeans=KMeans(n_clusters=i, init='k-means++', random_state=0)\n",
    "    kmeans.fit(X)\n",
    "    wcss.append(kmeans.inertia_)"
   ]
  },
  {
   "cell_type": "code",
   "execution_count": null,
   "id": "59002e24-733f-418f-8a9d-9227d6efd0b3",
   "metadata": {},
   "outputs": [],
   "source": [
    "# Plot an elbow graph\n",
    "sns.set()\n",
    "plt.plot(range(1,11), wcss)\n",
    "plt.title('Elbow Point graph')\n",
    "plt.xlabel('Number of cluster')\n",
    "plt.ylabel('WCSS')\n",
    "plt.show()"
   ]
  },
  {
   "cell_type": "markdown",
   "id": "2d665873-3722-4370-a9bf-5d0506af1e46",
   "metadata": {},
   "source": [
    "## Optimum numbers of clusters are 5"
   ]
  },
  {
   "cell_type": "code",
   "execution_count": null,
   "id": "edaa96a5-2232-418b-9a9a-05b9b309eb60",
   "metadata": {},
   "outputs": [],
   "source": [
    "kmeans=KMeans(n_clusters=5, init='k-means++', random_state=0)\n",
    "Y=kmeans.fit_predict(X)\n",
    "print(Y)"
   ]
  },
  {
   "cell_type": "code",
   "execution_count": null,
   "id": "0229f127-4a64-4321-9ec1-8a918651c121",
   "metadata": {},
   "outputs": [],
   "source": [
    "# Plot the clusters\n",
    "\n",
    "plt.figure(figsize=(8, 8))\n",
    "plt.scatter(X[Y==0, 0], X[Y==0, 1], s=50, c='red')\n",
    "plt.scatter(X[Y==1, 0], X[Y==1, 1], s=50, c='green')\n",
    "plt.scatter(X[Y==2, 0], X[Y==2, 1], s=50, c='blue')\n",
    "plt.scatter(X[Y==3, 0], X[Y==3, 1], s=50, c='yellow')\n",
    "plt.scatter(X[Y==4, 0], X[Y==4, 1], s=50, c='violet')\n",
    "\n",
    "# Plot centroids\n",
    "plt.scatter(kmeans.cluster_centers_[:,0], kmeans.cluster_centers_[:,1], s=60, c='black')\n",
    "plt.xlabel('Annual Income')\n",
    "plt.ylabel('Spending Score')"
   ]
  },
  {
   "cell_type": "code",
   "execution_count": null,
   "id": "309cf6fd-8ef1-49b5-bbc3-3a4cb69b98e6",
   "metadata": {},
   "outputs": [],
   "source": []
  }
 ],
 "metadata": {
  "kernelspec": {
   "display_name": "Python",
   "language": "python",
   "name": "conda-env-python-py"
  },
  "language_info": {
   "codemirror_mode": {
    "name": "ipython",
    "version": 3
   },
   "file_extension": ".py",
   "mimetype": "text/x-python",
   "name": "python",
   "nbconvert_exporter": "python",
   "pygments_lexer": "ipython3",
   "version": "3.7.12"
  }
 },
 "nbformat": 4,
 "nbformat_minor": 5
}
