{
 "cells": [
  {
   "cell_type": "markdown",
   "id": "26fcb0f2-b220-4306-b854-cdf7c1387d32",
   "metadata": {},
   "source": [
    "# Big Mart Sales Prediction"
   ]
  },
  {
   "cell_type": "markdown",
   "id": "f8c1b44e-99fb-49e9-943e-9bef827fb5a1",
   "metadata": {},
   "source": [
    "### Consider the supermart wants us to predict the sales using data of several stores"
   ]
  },
  {
   "cell_type": "markdown",
   "id": "54697e81-173a-4b80-9f2a-c7063a65a5ca",
   "metadata": {},
   "source": [
    "## Importing the Dependencies"
   ]
  },
  {
   "cell_type": "code",
   "execution_count": null,
   "id": "4191360c-9c17-4d6a-aa98-35e6a9051518",
   "metadata": {},
   "outputs": [],
   "source": [
    "pip install xgboost"
   ]
  },
  {
   "cell_type": "code",
   "execution_count": null,
   "id": "2e53656d-2239-428d-be1f-dea0d52c53c1",
   "metadata": {},
   "outputs": [],
   "source": [
    "import numpy as np \n",
    "import pandas as pd\n",
    "import seaborn as sns\n",
    "import matplotlib.pyplot as plt\n",
    "%matplotlib inline\n",
    "from sklearn.preprocessing import LabelEncoder\n",
    "from sklearn.model_selection import train_test_split\n",
    "from xgboost import XGBRegressor\n",
    "from sklearn import metrics"
   ]
  },
  {
   "cell_type": "code",
   "execution_count": null,
   "id": "bf007851-fcde-4445-a4c5-8caf38be8052",
   "metadata": {},
   "outputs": [],
   "source": [
    "# Loading Dataset\n",
    "df=pd.read_csv('Bigmartdata.csv')"
   ]
  },
  {
   "cell_type": "code",
   "execution_count": null,
   "id": "f081b32a-2c6e-4371-b187-2fac55fbdaa3",
   "metadata": {},
   "outputs": [],
   "source": [
    "# Display first 5 rows\n",
    "df.head()"
   ]
  },
  {
   "cell_type": "code",
   "execution_count": null,
   "id": "4701adc8-9ec3-4729-b85c-43894990c52e",
   "metadata": {},
   "outputs": [],
   "source": [
    "# shape of the datset\n",
    "df.shape"
   ]
  },
  {
   "cell_type": "markdown",
   "id": "b1e8f853-9738-48ce-9a8d-0d1ee9a81149",
   "metadata": {},
   "source": [
    "#### There are 5681 rows and 12 columns in the dataset"
   ]
  },
  {
   "cell_type": "code",
   "execution_count": null,
   "id": "0ea083b9-e4ce-4dba-94fb-f948f287ccf3",
   "metadata": {},
   "outputs": [],
   "source": [
    "# Information about datset\n",
    "df.info()"
   ]
  },
  {
   "cell_type": "markdown",
   "id": "5cc38b96-2cd4-4663-98e8-564247374ced",
   "metadata": {
    "tags": []
   },
   "source": [
    "### Categorical features are\n",
    "  Item_Identifier,  \n",
    "  Item_Fat_Content,      \n",
    "  Item_Type,          \n",
    "  Outlet_Identifier,        \n",
    "  Outlet_Size ,       \n",
    "  Outlet_Location_Type,          \n",
    "  Outlet_Type"
   ]
  },
  {
   "cell_type": "code",
   "execution_count": null,
   "id": "fce87dd0-cfed-4d3e-b0c7-429d7fd8f694",
   "metadata": {},
   "outputs": [],
   "source": [
    "# Check the missing values\n",
    "df.isnull().sum()"
   ]
  },
  {
   "cell_type": "markdown",
   "id": "f80c0b04-5a0b-4ab6-94f8-2cc829793c1d",
   "metadata": {
    "jp-MarkdownHeadingCollapsed": true,
    "tags": []
   },
   "source": [
    "##### Item_Weight has 1463 missing values \n",
    "##### Outlet_Size has 2410 missing values"
   ]
  },
  {
   "cell_type": "markdown",
   "id": "682b0428-968e-42eb-bf87-95cea2c986de",
   "metadata": {
    "tags": []
   },
   "source": [
    "#### Replace the float type missing values with mean and object type missing values with mode"
   ]
  },
  {
   "cell_type": "code",
   "execution_count": null,
   "id": "e92ef7a3-3780-40e5-b254-a3de18820d6f",
   "metadata": {},
   "outputs": [],
   "source": [
    "df['Item_Weight'].mean()"
   ]
  },
  {
   "cell_type": "code",
   "execution_count": null,
   "id": "84503604-0f95-4890-9f7f-7692f12f8342",
   "metadata": {},
   "outputs": [],
   "source": [
    "df['Item_Weight'].fillna(df['Item_Weight'].mean(), inplace=True)"
   ]
  },
  {
   "cell_type": "code",
   "execution_count": null,
   "id": "9696a632-6e6c-436e-a0c2-1795fa936e20",
   "metadata": {},
   "outputs": [],
   "source": [
    "df['Outlet_Size'].mode()"
   ]
  },
  {
   "cell_type": "code",
   "execution_count": null,
   "id": "f22d373f-e6c7-4315-826a-c33c4228ebad",
   "metadata": {},
   "outputs": [],
   "source": [
    "df['Outlet_Size'].fillna(df['Outlet_Size'].mode()[0], inplace=True)"
   ]
  },
  {
   "cell_type": "code",
   "execution_count": null,
   "id": "6b738e06-bc3c-4cfe-a301-d0432804a29a",
   "metadata": {},
   "outputs": [],
   "source": [
    "## Checking for missing  values\n",
    "df.isnull().sum()"
   ]
  },
  {
   "cell_type": "markdown",
   "id": "e18e52c4-f19a-4eb3-bbf2-f24e15b6e7c6",
   "metadata": {},
   "source": [
    "#### There are no missing values now"
   ]
  },
  {
   "cell_type": "markdown",
   "id": "5efd647f-a860-43cf-97fa-db0d80b9af7a",
   "metadata": {},
   "source": [
    "## Data Analysis"
   ]
  },
  {
   "cell_type": "code",
   "execution_count": null,
   "id": "3278d5ca-393b-49aa-a5ec-d60fa59ba097",
   "metadata": {},
   "outputs": [],
   "source": [
    "# Statistical measure\n",
    "df.describe()"
   ]
  },
  {
   "cell_type": "markdown",
   "id": "754a4997-bad7-4c85-b57f-0410d589773b",
   "metadata": {},
   "source": [
    "## Data visualization"
   ]
  },
  {
   "cell_type": "code",
   "execution_count": null,
   "id": "1c7ff77b-d82a-4b7c-9ed9-d04125d23056",
   "metadata": {},
   "outputs": [],
   "source": [
    "# for numerical fetures"
   ]
  },
  {
   "cell_type": "code",
   "execution_count": null,
   "id": "0f870e62-9d0e-4216-a87e-bdb1ca4967f5",
   "metadata": {},
   "outputs": [],
   "source": [
    "sns.set()"
   ]
  },
  {
   "cell_type": "code",
   "execution_count": null,
   "id": "e45fc28e-9f2a-46a0-9c2d-3ce95e2b8e66",
   "metadata": {},
   "outputs": [],
   "source": [
    "## Item_Weight distribution\n",
    "sns.distplot(df['Item_Weight'], color='blue')"
   ]
  },
  {
   "cell_type": "markdown",
   "id": "c33ec103-a044-4a62-bcf7-6181b6a6189c",
   "metadata": {},
   "source": [
    "#### Mean weight is 12.85 and maximum item has weight around 12.80 "
   ]
  },
  {
   "cell_type": "code",
   "execution_count": null,
   "id": "05169034-dca3-4b7c-baa0-4a7ee2a8d138",
   "metadata": {},
   "outputs": [],
   "source": [
    "## Item_Visibility distribution\n",
    "sns.distplot(df['Item_Visibility'], color='blue')"
   ]
  },
  {
   "cell_type": "markdown",
   "id": "df168c8b-3ebc-45bb-9099-3ed6f33ed59a",
   "metadata": {},
   "source": [
    "#### Item_visibility is positively skewed "
   ]
  },
  {
   "cell_type": "code",
   "execution_count": null,
   "id": "b25ced7d-4725-456f-92be-4501f36d45fb",
   "metadata": {},
   "outputs": [],
   "source": [
    "## Item_MRP distribution\n",
    "sns.distplot(df['Item_MRP'], color='blue')"
   ]
  },
  {
   "cell_type": "markdown",
   "id": "cfd7cff9-065b-4ca8-bea6-e46333a67140",
   "metadata": {},
   "source": [
    "#### Most items has MRP 50, 100 and between 150-200 "
   ]
  },
  {
   "cell_type": "code",
   "execution_count": null,
   "id": "ac2e4ee7-7c29-4830-8732-6f633099bfa6",
   "metadata": {},
   "outputs": [],
   "source": [
    "## Item_Outlet_Sales distribution\n",
    "sns.distplot(df['Item_Outlet_Sales'], color='blue')"
   ]
  },
  {
   "cell_type": "markdown",
   "id": "c6f3595a-96cc-4527-aa7c-529d06425b34",
   "metadata": {},
   "source": [
    "#### Item_Outlet_Sales is positively skewed most items has sales price less than 2000"
   ]
  },
  {
   "cell_type": "code",
   "execution_count": null,
   "id": "b5fbed3c-0011-4498-9833-e58756029e9a",
   "metadata": {},
   "outputs": [],
   "source": [
    "## Outlet_Establishment_Year distribution\n",
    "sns.countplot('Outlet_Establishment_Year', data=df)"
   ]
  },
  {
   "cell_type": "markdown",
   "id": "49af3fe8-ebac-4cfa-8bf4-757b279d67cb",
   "metadata": {},
   "source": [
    "#### Most numbers of outlets established in 1985 and less number of outlets established in 1998 for other years same number of outlets established. "
   ]
  },
  {
   "cell_type": "markdown",
   "id": "c20431b7-b7db-4692-8eea-d37069fd2db4",
   "metadata": {},
   "source": [
    "### Visualization of categorical features"
   ]
  },
  {
   "cell_type": "code",
   "execution_count": null,
   "id": "53a4ab82-0f72-4fab-b9a7-0ed41ac0cfa2",
   "metadata": {},
   "outputs": [],
   "source": [
    "## Item_Fat_Content\n",
    "sns.countplot('Item_Fat_Content', data=df)"
   ]
  },
  {
   "cell_type": "code",
   "execution_count": null,
   "id": "bf636667-bd1f-4055-92d5-e7a65bb120d3",
   "metadata": {},
   "outputs": [],
   "source": [
    "# Item_Type\n",
    "plt.figure(figsize=(20, 6))\n",
    "sns.countplot('Item_Type', data=df)"
   ]
  },
  {
   "cell_type": "markdown",
   "id": "048040f4-ae72-4977-84ba-c02a4438722e",
   "metadata": {},
   "source": [
    "#### Different types of items are there most number of items are fruits and vegetables , snaks and foods and less numbers are seafood"
   ]
  },
  {
   "cell_type": "code",
   "execution_count": null,
   "id": "21c9f843-b99e-46c3-9bdc-e7dabec4b1af",
   "metadata": {},
   "outputs": [],
   "source": [
    "# Outlet_Size\n",
    "sns.countplot('Outlet_Size', data=df)"
   ]
  },
  {
   "cell_type": "markdown",
   "id": "1e49b3ae-41ed-4698-865a-7036da123952",
   "metadata": {},
   "source": [
    "#### Three numbers of outlet size are there most number of outlets size are median"
   ]
  },
  {
   "cell_type": "markdown",
   "id": "aaef0afe-1799-4676-9295-8f121e1dd67e",
   "metadata": {},
   "source": [
    "## Data Preprocessing"
   ]
  },
  {
   "cell_type": "code",
   "execution_count": null,
   "id": "31d5258c-d2fc-4039-b540-3c34bec9215e",
   "metadata": {},
   "outputs": [],
   "source": [
    "df.head()"
   ]
  },
  {
   "cell_type": "code",
   "execution_count": null,
   "id": "76214201-f154-4323-8c22-574af3d78c38",
   "metadata": {},
   "outputs": [],
   "source": [
    "df['Item_Fat_Content'].value_counts()"
   ]
  },
  {
   "cell_type": "code",
   "execution_count": null,
   "id": "cc55ac62-cc33-4d6e-b35c-11335b2c0706",
   "metadata": {},
   "outputs": [],
   "source": [
    "## LF , low fat and Low Fat are same type and Regular and reg is same type\n",
    "df.replace({'Item_Fat_Content':{'low fat':'Low Fat','LF':'Low Fat', 'reg':'Regular'}}, inplace=True)"
   ]
  },
  {
   "cell_type": "code",
   "execution_count": null,
   "id": "b40ba6c6-feca-4703-a499-35cb5eadb914",
   "metadata": {},
   "outputs": [],
   "source": [
    "df['Item_Fat_Content'].value_counts()"
   ]
  },
  {
   "cell_type": "markdown",
   "id": "810ff27f-b118-4c72-ab6f-4d8a4467bb3c",
   "metadata": {},
   "source": [
    "## Label Encoder"
   ]
  },
  {
   "cell_type": "code",
   "execution_count": null,
   "id": "b6f99cd4-57fd-41bf-a1ae-530b899f681f",
   "metadata": {},
   "outputs": [],
   "source": [
    "encoder=LabelEncoder()"
   ]
  },
  {
   "cell_type": "code",
   "execution_count": null,
   "id": "7c0b8962-f648-463d-9178-e9ef00b1f551",
   "metadata": {},
   "outputs": [],
   "source": [
    "df['Item_Identifier']=encoder.fit_transform(df['Item_Identifier'])\n",
    "df['Item_Fat_Content']=encoder.fit_transform(df['Item_Fat_Content'])\n",
    "df['Item_Type']=encoder.fit_transform(df['Item_Type'])\n",
    "df['Outlet_Identifier']=encoder.fit_transform(df['Outlet_Identifier'])\n",
    "df['Outlet_Size']=encoder.fit_transform(df['Outlet_Size'])\n",
    "df['Outlet_Location_Type']=encoder.fit_transform(df['Outlet_Location_Type'])\n",
    "df['Outlet_Type']=encoder.fit_transform(df['Outlet_Type'])"
   ]
  },
  {
   "cell_type": "code",
   "execution_count": null,
   "id": "ad245576-7eba-4620-8024-051a143dfb24",
   "metadata": {},
   "outputs": [],
   "source": [
    "df.head()"
   ]
  },
  {
   "cell_type": "code",
   "execution_count": null,
   "id": "4aedcf46-9c41-438f-be03-4e1bab312e1a",
   "metadata": {},
   "outputs": [],
   "source": [
    "df.shape"
   ]
  },
  {
   "cell_type": "markdown",
   "id": "4b6244c3-738e-4be3-8ac7-db1ba1814b2f",
   "metadata": {},
   "source": [
    "## Separating Independent features and target values"
   ]
  },
  {
   "cell_type": "code",
   "execution_count": null,
   "id": "586f393c-0681-46a3-8543-4e7763b20515",
   "metadata": {},
   "outputs": [],
   "source": [
    "X=df.drop('Item_Outlet_Sales', axis=1)"
   ]
  },
  {
   "cell_type": "code",
   "execution_count": null,
   "id": "2c0910b3-5ecc-4d3b-b250-2b2bef46dae3",
   "metadata": {},
   "outputs": [],
   "source": [
    "y=df['Item_Outlet_Sales']"
   ]
  },
  {
   "cell_type": "code",
   "execution_count": null,
   "id": "d701da17-6858-446b-94b7-8ebfa9c7b32c",
   "metadata": {},
   "outputs": [],
   "source": [
    "print(X)\n",
    "print(y)"
   ]
  },
  {
   "cell_type": "markdown",
   "id": "4acf3077-4b23-4109-b7c7-a2b73e837127",
   "metadata": {},
   "source": [
    "## Train_test_split"
   ]
  },
  {
   "cell_type": "code",
   "execution_count": null,
   "id": "26f0d523-031e-4ab5-9b16-90c62c3e126f",
   "metadata": {},
   "outputs": [],
   "source": [
    "X_train, X_test, y_train, y_test=train_test_split(X, y, test_size=0.2, random_state=0)"
   ]
  },
  {
   "cell_type": "code",
   "execution_count": null,
   "id": "13fb0dae-460b-43e3-98d4-28d8b73208ba",
   "metadata": {},
   "outputs": [],
   "source": [
    "print(X.shape, X_train.shape, X_test.shape)"
   ]
  },
  {
   "cell_type": "markdown",
   "id": "ba368670-ed0c-49f1-be8e-1c9fa9050896",
   "metadata": {},
   "source": [
    "## Training  the ML  model"
   ]
  },
  {
   "cell_type": "code",
   "execution_count": null,
   "id": "4bb4bfae-4d90-4c62-8030-7e5059b76190",
   "metadata": {},
   "outputs": [],
   "source": [
    "model=XGBRegressor()"
   ]
  },
  {
   "cell_type": "code",
   "execution_count": null,
   "id": "b16a2ebe-9e89-4d7a-a0af-77415b9cbf0d",
   "metadata": {},
   "outputs": [],
   "source": [
    "## fit the model\n",
    "model.fit(X_train, y_train)"
   ]
  },
  {
   "cell_type": "code",
   "execution_count": null,
   "id": "0546003c-e97a-4517-bc54-0e1879ed63d9",
   "metadata": {},
   "outputs": [],
   "source": [
    "## Train data prediction\n",
    "y_train_predict=model.predict(X_train)"
   ]
  },
  {
   "cell_type": "code",
   "execution_count": null,
   "id": "809c780b-55e0-4cd9-ab43-3fbabc59bb84",
   "metadata": {},
   "outputs": [],
   "source": [
    "r2_score=metrics.r2_score(y_train,y_train_predict) "
   ]
  },
  {
   "cell_type": "code",
   "execution_count": null,
   "id": "6e039507-b5fa-4d16-9c5b-ce11b62211b4",
   "metadata": {},
   "outputs": [],
   "source": [
    "r2_score"
   ]
  },
  {
   "cell_type": "code",
   "execution_count": null,
   "id": "4bb998eb-0f38-40cc-a76a-57fc78bed048",
   "metadata": {},
   "outputs": [],
   "source": [
    "## Test data prediction\n",
    "y_test_predict=model.predict(X_test)"
   ]
  },
  {
   "cell_type": "code",
   "execution_count": null,
   "id": "8b1159fd-7f06-46ab-9658-08e851e31781",
   "metadata": {},
   "outputs": [],
   "source": [
    "r2_score_test=metrics.r2_score(y_test, y_test_predict)"
   ]
  },
  {
   "cell_type": "code",
   "execution_count": null,
   "id": "6b3409ac-55a0-47ff-91a0-8c529c666054",
   "metadata": {},
   "outputs": [],
   "source": [
    "r2_score_test"
   ]
  },
  {
   "cell_type": "code",
   "execution_count": null,
   "id": "e1caf805-344f-4ef1-bcd2-bc12fb135f0c",
   "metadata": {},
   "outputs": [],
   "source": []
  }
 ],
 "metadata": {
  "kernelspec": {
   "display_name": "Python",
   "language": "python",
   "name": "conda-env-python-py"
  },
  "language_info": {
   "codemirror_mode": {
    "name": "ipython",
    "version": 3
   },
   "file_extension": ".py",
   "mimetype": "text/x-python",
   "name": "python",
   "nbconvert_exporter": "python",
   "pygments_lexer": "ipython3",
   "version": "3.7.12"
  },
  "toc-autonumbering": false,
  "toc-showcode": false,
  "toc-showmarkdowntxt": false
 },
 "nbformat": 4,
 "nbformat_minor": 5
}
